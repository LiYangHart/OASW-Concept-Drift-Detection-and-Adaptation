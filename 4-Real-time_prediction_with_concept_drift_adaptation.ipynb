{
 "cells": [
  {
   "cell_type": "markdown",
   "metadata": {},
   "source": [
    "# A Lightweight Concept Drift Detection and Adaptation Framework for IoT Data Streams \n",
    "This is the code for the paper entitled \"**A Lightweight Concept Drift Detection and Adaptation Framework for IoT Data Streams**\" accepted in IEEE Internet of Things Magazine.  \n",
    "Authors: Li Yang (lyang339@uwo.ca) and Abdallah Shami (Abdallah.Shami@uwo.ca)  \n",
    "Organization: The Optimized Computing and Communications (OC2) Lab, ECE Department, Western University\n",
    "\n",
    "**Notebook 4: Real-time prediction with concept drift adaptation**  \n",
    "Aims:  \n",
    "&nbsp; 1): Develop a real-time classifier with concept drift detection  \n",
    "&nbsp; 2): Plot a figure/gif to show the real-time prediction results that can be updated over time."
   ]
  },
  {
   "cell_type": "markdown",
   "metadata": {},
   "source": [
    "## Import libraries"
   ]
  },
  {
   "cell_type": "code",
   "execution_count": 10,
   "metadata": {
    "collapsed": true
   },
   "outputs": [],
   "source": [
    "import pandas as pd\n",
    "import numpy as np\n",
    "from sklearn.model_selection import train_test_split\n",
    "import lightgbm as lgb\n",
    "from sklearn.metrics import accuracy_score\n",
    "from river import metrics\n",
    "from river import stream\n",
    "import matplotlib.pyplot as plt\n",
    "import statistics \n",
    "import seaborn as sns"
   ]
  },
  {
   "cell_type": "markdown",
   "metadata": {},
   "source": [
    "## Read the NSL-KDD dataset"
   ]
  },
  {
   "cell_type": "code",
   "execution_count": 4,
   "metadata": {
    "collapsed": true
   },
   "outputs": [],
   "source": [
    "df = pd.read_csv(\"NSL_KDD_binary(train+test).csv\")\n",
    "df1 = pd.read_csv(\"NSL_KDD_binary_train.csv\")\n",
    "df2 = pd.read_csv(\"NSL_KDD_binary_test.csv\")"
   ]
  },
  {
   "cell_type": "markdown",
   "metadata": {},
   "source": [
    "### Data sampling\n",
    "Use the last 10% of training set and the entire test set"
   ]
  },
  {
   "cell_type": "code",
   "execution_count": 5,
   "metadata": {
    "collapsed": false
   },
   "outputs": [],
   "source": [
    "df_used = int(len(df1)*0.1) + len(df2)\n",
    "df0 = df.iloc[-df_used:]"
   ]
  },
  {
   "cell_type": "markdown",
   "metadata": {},
   "source": [
    "## Train-test split\n",
    "10% training set, and 90% test set"
   ]
  },
  {
   "cell_type": "code",
   "execution_count": 6,
   "metadata": {
    "collapsed": true
   },
   "outputs": [],
   "source": [
    "X = df0.drop(['label'],axis=1)\n",
    "y = df0['label']\n",
    "X_train, X_test, y_train, y_test = train_test_split(X,y, train_size = 0.1, test_size = 0.9, shuffle=False, random_state = 0)"
   ]
  },
  {
   "cell_type": "markdown",
   "metadata": {},
   "source": [
    "## Offline learning: LightGBM"
   ]
  },
  {
   "cell_type": "code",
   "execution_count": 7,
   "metadata": {
    "collapsed": false
   },
   "outputs": [
    {
     "name": "stdout",
     "output_type": "stream",
     "text": [
      "Accuracy: 0.8420969424858507\n"
     ]
    }
   ],
   "source": [
    "classifier = lgb.LGBMClassifier()\n",
    "# classifier = joblib.load('Optimized_lightGBM.pkl') \n",
    "classifier.fit(X_train,y_train)\n",
    "predictions = classifier.predict(X_test)\n",
    "print(\"Accuracy: \"+str(accuracy_score(y_test,predictions)))"
   ]
  },
  {
   "cell_type": "code",
   "execution_count": 8,
   "metadata": {
    "collapsed": false
   },
   "outputs": [],
   "source": [
    "%matplotlib qt5\n",
    "#%matplotlib inline\n",
    "\n",
    "def oasw_real_time(a=0.99, b=0.95, win1=200, win2=1000):\n",
    "    a = round(a, 3)\n",
    "    b = round(b, 3)\n",
    "    win1 = round(win1)\n",
    "    win2 = round(win2)\n",
    "\n",
    "    plt.ion() #start interactive mode \n",
    "    #plt.figure(1, constrained_layout=True)\n",
    "    plt.figure(1,figsize=(12,7.5))\n",
    "    sns.set_style(\"darkgrid\")\n",
    "    \n",
    "    metric = metrics.Accuracy()\n",
    "    metric2 = metrics.Accuracy()\n",
    "\n",
    "    i = 0\n",
    "    t = []\n",
    "    yt = []\n",
    "    yp = []\n",
    "    m = []\n",
    "    m2 = []\n",
    "    x_new=[]\n",
    "    y_new=[]\n",
    "    dr=[0]\n",
    "    d=0\n",
    "    f=0\n",
    "    tt=0\n",
    "    th=0\n",
    "    xt=[]\n",
    "\n",
    "    classifier = lgb.LGBMClassifier() # Train the initial LightGBM model\n",
    "    classifier.fit(X_train,y_train)\n",
    "    \n",
    "    classifier2 = lgb.LGBMClassifier() # Train an offline LightGBM model as a comparison model\n",
    "    classifier2.fit(X_train,y_train)\n",
    "\n",
    "    for xi, yi in stream.iter_pandas(X_test, y_test):\n",
    "\n",
    "        xi2=np.array(list(xi.values()))\n",
    "        y_pred = classifier.predict(xi2.reshape(1, -1))      # make a prediction\n",
    "        metric = metric.update(yi, y_pred)  # update the metric\n",
    "\n",
    "        y_pred2= classifier2.predict(xi2.reshape(1, -1)) \n",
    "        metric2 = metric2.update(yi, y_pred2)\n",
    "        \n",
    "        # Store the y_test, y_pred, x_test, and real-time accuracy\n",
    "        t.append(i)\n",
    "        m.append(metric.get()*100)\n",
    "        yt.append(yi)\n",
    "        yp.append(y_pred)\n",
    "        m2.append(metric2.get()*100)\n",
    "        xt.append(xi2)\n",
    "\n",
    "        # Monitor the accuracy changes in the sliding window\n",
    "        if i>2*win1:\n",
    "            acc1=accuracy_score(yt[i-win1:],yp[i-win1:]) # Current window accuracy\n",
    "            acc2=accuracy_score(yt[i-2*win1:i-win1],yp[i-2*win1:i-win1]) # Last window accuracy\n",
    "            if (d==0)&(acc1<a*acc2): # If the window accuracy drops to the warning level\n",
    "                x_new.append(xi2)\n",
    "                y_new.append(yi)\n",
    "                d=1\n",
    "            if d==1: # In the warning level\n",
    "                tt=len(y_new)\n",
    "                if acc1<b*acc2: # If the window accuracy drops to the drift level\n",
    "                    dr.append(i)# Record the drift start point\n",
    "                    f=i\n",
    "                    if tt<win1: # if enough new concept samples are collected\n",
    "                        classifier.fit(xt[i-win1:],yt[i-win1:]) \n",
    "                    else:\n",
    "                        classifier.fit(x_new,y_new)\n",
    "                    d=2\n",
    "                elif (acc1>a*acc2)|(tt==win2): # If the window accuracy increases back to the normal level (false alarm)\n",
    "                    x_new=[]\n",
    "                    y_new=[]\n",
    "                    d=0\n",
    "                else:\n",
    "                    x_new.append(xi2)\n",
    "                    y_new.append(yi)\n",
    "            if d==2: # In the drift level\n",
    "                tt=len(y_new)\n",
    "                acc3=accuracy_score(yt[f:f+win1],yp[f:f+win1])\n",
    "                x_new.append(xi2)\n",
    "                y_new.append(yi)\n",
    "                if tt>=win1:\n",
    "                    if (acc1<a*acc3): # When new concept accuracy drops to the warning level\n",
    "                        if th==0:\n",
    "                            classifier.fit(x_new,y_new) # Retrain the classifier on all the newly collected samples to obtain a robust classifier\n",
    "                            th=1\n",
    "                    if (th==1)&(tt==win2): # When sufficient new concept samples are collected\n",
    "                        classifier.fit(x_new,y_new) #obtain a robust classifier\n",
    "                        x_new=[]\n",
    "                        y_new=[]\n",
    "                        d=0 # Go back to the normal state for next potential drift detection\n",
    "                        th=0\n",
    "\n",
    "        \n",
    "#     if i == (10000):\n",
    "        plt.clf() \n",
    "        plt.plot(t,m,'-b',label='RMSE with drift')\n",
    "        plt.plot(t,m2,'pink',label='RMSE without drift')\n",
    "        #plt.plot(t,yp,'-g',label='True values')\n",
    "        #plt.plot(t,yt,'-r',label='Predicted values')\n",
    "        plt.legend(loc='upper left')\n",
    "        plt.title('NSL-KDD Dataset Online Learning Results', fontsize=15,pad =10)\n",
    "        plt.suptitle('NSL-KDD Dataset Results'+'\\nAvg Test Accuracy of Adaptive LightGBM: '+str(round(metric.get()*100, 2))+'\\nAvg Test Accuracy of Offline LightGBM: '\n",
    "                     +str(round(metric2.get()*100, 2))+'\\nDrift detected at timestamps: '+str(dr[1:]), fontsize=10,verticalalignment='baseline')\n",
    "        plt.xlabel('Number of samples')\n",
    "        plt.ylabel('Accuracy (%)')\n",
    "\n",
    "        plt.draw()\n",
    "\n",
    "        plt.pause(0.000000001)\n",
    "\n",
    "        i=i+1"
   ]
  },
  {
   "cell_type": "code",
   "execution_count": 11,
   "metadata": {
    "collapsed": false
   },
   "outputs": [
    {
     "data": {
      "image/png": "[encoded data removed]",
      "text/plain": [
       "<Figure size 864x540 with 1 Axes>"
      ]
     },
     "metadata": {
      "needs_background": "light"
     },
     "output_type": "display_data"
    }
   ],
   "source": [
    "oasw_real_time(a = 0.978, b = 0.931, win1 = 611, win2 = 4320)"
   ]
  },
  {
   "cell_type": "code",
   "execution_count": null,
   "metadata": {
    "collapsed": true
   },
   "outputs": [],
   "source": []
  }
 ],
 "metadata": {
  "anaconda-cloud": {},
  "kernelspec": {
   "display_name": "tf36",
   "language": "python",
   "name": "tf36"
  },
  "language_info": {
   "codemirror_mode": {
    "name": "ipython",
    "version": 3
   },
   "file_extension": ".py",
   "mimetype": "text/x-python",
   "name": "python",
   "nbconvert_exporter": "python",
   "pygments_lexer": "ipython3",
   "version": "3.6.8"
  }
 },
 "nbformat": 4,
 "nbformat_minor": 2
}
